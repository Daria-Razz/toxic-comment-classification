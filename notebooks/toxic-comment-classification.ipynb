{
 "cells": [
  {
   "cell_type": "markdown",
   "metadata": {},
   "source": [
    "# Toxic Comment Classification"
   ]
  },
  {
   "cell_type": "markdown",
   "metadata": {
    "toc": true
   },
   "source": [
    "<h1>Contents<span class=\"tocSkip\"></span></h1>\n",
    "<div class=\"toc\"><ul class=\"toc-item\"><li><span><a href=\"#Preparation\" data-toc-modified-id=\"Preparation-1\"><span class=\"toc-item-num\">1&nbsp;&nbsp;</span>Preparation</a></span></li><li><span><a href=\"#Training\" data-toc-modified-id=\"Training-2\"><span class=\"toc-item-num\">2&nbsp;&nbsp;</span>Training</a></span><ul class=\"toc-item\"><li><span><a href=\"#Logistic-regression\" data-toc-modified-id=\"Logistic-regression-2.1\"><span class=\"toc-item-num\">2.1&nbsp;&nbsp;</span>Logistic Regression</a></span></li><li><span><a href=\"#Catboost\" data-toc-modified-id=\"Catboost-2.2\"><span class=\"toc-item-num\">2.2&nbsp;&nbsp;</span>Catboost</a></span></li><li><span><a href=\"#Naive-Bayes-Classifier\" data-toc-modified-id=\"Naive-Bayes-Classifier-2.3\"><span class=\"toc-item-num\">2.3&nbsp;&nbsp;</span>Naive Bayes Classifier</a></span></li><li><span><a href=\"#SGD-classifier\" data-toc-modified-id=\"SGD-classifier-2.4\"><span class=\"toc-item-num\">2.4&nbsp;&nbsp;</span>SGD Classifier</a></span></li><li><span><a href=\"#Intermediate-results-and-testing\" data-toc-modified-id=\"Intermediate-results-and-testing-2.5\"><span class=\"toc-item-num\">2.5&nbsp;&nbsp;</span>Intermediate Results and Testing</a></span></li></ul></li><li><span><a href=\"#Conclusion\" data-toc-modified-id=\"Conclusion-3\"><span class=\"toc-item-num\">3&nbsp;&nbsp;</span>Conclusion</a></span></li>"
   ]
  },
  {
   "cell_type": "markdown",
   "metadata": {},
   "source": [
    "## Preparation"
   ]
  },
  {
   "cell_type": "code",
   "execution_count": 17,
   "metadata": {},
   "outputs": [],
   "source": [
    "import pandas as pd\n",
    "import matplotlib.pyplot as plt\n",
    "from sklearn.model_selection import train_test_split\n",
    "from sklearn.feature_extraction.text import TfidfVectorizer\n",
    "from sklearn.metrics import f1_score\n",
    "import nltk\n",
    "from nltk.corpus import stopwords\n",
    "from nltk.stem import WordNetLemmatizer\n",
    "import string\n",
    "from sklearn.pipeline import Pipeline\n",
    "from sklearn.linear_model import LogisticRegression\n",
    "from imblearn.over_sampling import RandomOverSampler\n",
    "from catboost import CatBoostClassifier\n",
    "from sklearn.utils.class_weight import compute_sample_weight\n",
    "import xgboost as xgb\n",
    "from sklearn.naive_bayes import MultinomialNB\n",
    "from sklearn.linear_model import SGDClassifier\n",
    "from tqdm.notebook import tqdm\n",
    "import spacy\n",
    "from nltk.tokenize import word_tokenize"
   ]
  },
  {
   "cell_type": "code",
   "execution_count": 18,
   "metadata": {},
   "outputs": [],
   "source": [
    "try:\n",
    "    data = pd.read_csv('https://code.s3.yandex.net/datasets/toxic_comments.csv')\n",
    "except:\n",
    "    data = pd.read_csv('/data/toxic_comments.csv')"
   ]
  },
  {
   "cell_type": "code",
   "execution_count": 19,
   "metadata": {
    "scrolled": true
   },
   "outputs": [
    {
     "data": {
      "text/html": [
       "<div>\n",
       "<style scoped>\n",
       "    .dataframe tbody tr th:only-of-type {\n",
       "        vertical-align: middle;\n",
       "    }\n",
       "\n",
       "    .dataframe tbody tr th {\n",
       "        vertical-align: top;\n",
       "    }\n",
       "\n",
       "    .dataframe thead th {\n",
       "        text-align: right;\n",
       "    }\n",
       "</style>\n",
       "<table border=\"1\" class=\"dataframe\">\n",
       "  <thead>\n",
       "    <tr style=\"text-align: right;\">\n",
       "      <th></th>\n",
       "      <th>Unnamed: 0</th>\n",
       "      <th>text</th>\n",
       "      <th>toxic</th>\n",
       "    </tr>\n",
       "  </thead>\n",
       "  <tbody>\n",
       "    <tr>\n",
       "      <th>0</th>\n",
       "      <td>0</td>\n",
       "      <td>Explanation\\nWhy the edits made under my usern...</td>\n",
       "      <td>0</td>\n",
       "    </tr>\n",
       "    <tr>\n",
       "      <th>1</th>\n",
       "      <td>1</td>\n",
       "      <td>D'aww! He matches this background colour I'm s...</td>\n",
       "      <td>0</td>\n",
       "    </tr>\n",
       "    <tr>\n",
       "      <th>2</th>\n",
       "      <td>2</td>\n",
       "      <td>Hey man, I'm really not trying to edit war. It...</td>\n",
       "      <td>0</td>\n",
       "    </tr>\n",
       "    <tr>\n",
       "      <th>3</th>\n",
       "      <td>3</td>\n",
       "      <td>\"\\nMore\\nI can't make any real suggestions on ...</td>\n",
       "      <td>0</td>\n",
       "    </tr>\n",
       "    <tr>\n",
       "      <th>4</th>\n",
       "      <td>4</td>\n",
       "      <td>You, sir, are my hero. Any chance you remember...</td>\n",
       "      <td>0</td>\n",
       "    </tr>\n",
       "  </tbody>\n",
       "</table>\n",
       "</div>"
      ],
      "text/plain": [
       "   Unnamed: 0                                               text  toxic\n",
       "0           0  Explanation\\nWhy the edits made under my usern...      0\n",
       "1           1  D'aww! He matches this background colour I'm s...      0\n",
       "2           2  Hey man, I'm really not trying to edit war. It...      0\n",
       "3           3  \"\\nMore\\nI can't make any real suggestions on ...      0\n",
       "4           4  You, sir, are my hero. Any chance you remember...      0"
      ]
     },
     "execution_count": 19,
     "metadata": {},
     "output_type": "execute_result"
    }
   ],
   "source": [
    "data.head()"
   ]
  },
  {
   "cell_type": "code",
   "execution_count": 20,
   "metadata": {},
   "outputs": [
    {
     "name": "stdout",
     "output_type": "stream",
     "text": [
      "<class 'pandas.core.frame.DataFrame'>\n",
      "RangeIndex: 159292 entries, 0 to 159291\n",
      "Data columns (total 3 columns):\n",
      " #   Column      Non-Null Count   Dtype \n",
      "---  ------      --------------   ----- \n",
      " 0   Unnamed: 0  159292 non-null  int64 \n",
      " 1   text        159292 non-null  object\n",
      " 2   toxic       159292 non-null  int64 \n",
      "dtypes: int64(2), object(1)\n",
      "memory usage: 3.6+ MB\n"
     ]
    }
   ],
   "source": [
    "data.info()"
   ]
  },
  {
   "cell_type": "markdown",
   "metadata": {},
   "source": [
    "The dataset is a collection of comments labeled as toxic or non-toxic. The text needs to be cleaned, which includes converting it to lowercase, removing special characters and extra spaces, tokenizing, lemmatizing, and removing stop words. Additionally, we will remove the column Unnamed: 0 as it duplicates the index and provides no additional information."
   ]
  },
  {
   "cell_type": "code",
   "execution_count": 21,
   "metadata": {},
   "outputs": [],
   "source": [
    "data.drop(columns=['Unnamed: 0'], inplace=True)"
   ]
  },
  {
   "cell_type": "code",
   "execution_count": 22,
   "metadata": {},
   "outputs": [],
   "source": [
    "# Loading the spaCy model\n",
    "nlp = spacy.load(\"en_core_web_sm\")\n",
    "\n",
    "# Function for cleaning and lemmatizing text using spaCy\n",
    "def preprocessing(sentence):\n",
    "    sentence = sentence.strip()\n",
    "    sentence = sentence.lower()\n",
    "    \n",
    "    sentence = ''.join(char for char in sentence if not char.isdigit())\n",
    "    \n",
    "    for punctuation in string.punctuation:\n",
    "        sentence = sentence.replace(punctuation, '')\n",
    "\n",
    "    doc = nlp(sentence)\n",
    "    lemmatized = [token.lemma_ for token in doc if token.lemma_ != '-PRON-']\n",
    "    \n",
    "    stop_words = set(stopwords.words('english'))\n",
    "    lemmatized = [word for word in lemmatized if word not in stop_words]\n",
    "\n",
    "    cleaned_sentence = \" \".join(lemmatized)\n",
    "    return cleaned_sentence"
   ]
  },
  {
   "cell_type": "code",
   "execution_count": 23,
   "metadata": {},
   "outputs": [],
   "source": [
    "# Create a separate column to compare text length before and after cleaning\n",
    "data['original_text_lenth'] = data['text'].apply(lambda x: len(x))"
   ]
  },
  {
   "cell_type": "code",
   "execution_count": 24,
   "metadata": {},
   "outputs": [
    {
     "data": {
      "application/vnd.jupyter.widget-view+json": {
       "model_id": "a925c7f2f7954268bb276260806c1a5f",
       "version_major": 2,
       "version_minor": 0
      },
      "text/plain": [
       "  0%|          | 0/159292 [00:00<?, ?it/s]"
      ]
     },
     "metadata": {},
     "output_type": "display_data"
    }
   ],
   "source": [
    "# Apply the cleaning function with a progress bar\n",
    "tqdm.pandas()\n",
    "data['text_preprocessed'] = data['text'].progress_apply(preprocessing)"
   ]
  },
  {
   "cell_type": "code",
   "execution_count": 25,
   "metadata": {},
   "outputs": [],
   "source": [
    "data['preprocessing_text_lenth'] = data['text_preprocessed'].apply(lambda x: len(x))"
   ]
  },
  {
   "cell_type": "code",
   "execution_count": 26,
   "metadata": {},
   "outputs": [
    {
     "data": {
      "text/html": [
       "<div>\n",
       "<style scoped>\n",
       "    .dataframe tbody tr th:only-of-type {\n",
       "        vertical-align: middle;\n",
       "    }\n",
       "\n",
       "    .dataframe tbody tr th {\n",
       "        vertical-align: top;\n",
       "    }\n",
       "\n",
       "    .dataframe thead th {\n",
       "        text-align: right;\n",
       "    }\n",
       "</style>\n",
       "<table border=\"1\" class=\"dataframe\">\n",
       "  <thead>\n",
       "    <tr style=\"text-align: right;\">\n",
       "      <th></th>\n",
       "      <th>text</th>\n",
       "      <th>toxic</th>\n",
       "      <th>original_text_lenth</th>\n",
       "      <th>text_preprocessed</th>\n",
       "      <th>preprocessing_text_lenth</th>\n",
       "    </tr>\n",
       "  </thead>\n",
       "  <tbody>\n",
       "    <tr>\n",
       "      <th>0</th>\n",
       "      <td>Explanation\\nWhy the edits made under my usern...</td>\n",
       "      <td>0</td>\n",
       "      <td>264</td>\n",
       "      <td>explanation \\n edit make username hardcore met...</td>\n",
       "      <td>158</td>\n",
       "    </tr>\n",
       "    <tr>\n",
       "      <th>1</th>\n",
       "      <td>D'aww! He matches this background colour I'm s...</td>\n",
       "      <td>0</td>\n",
       "      <td>112</td>\n",
       "      <td>daww match background colour I seemingly stuck...</td>\n",
       "      <td>76</td>\n",
       "    </tr>\n",
       "    <tr>\n",
       "      <th>2</th>\n",
       "      <td>Hey man, I'm really not trying to edit war. It...</td>\n",
       "      <td>0</td>\n",
       "      <td>233</td>\n",
       "      <td>hey man I really try edit war guy constantly r...</td>\n",
       "      <td>135</td>\n",
       "    </tr>\n",
       "    <tr>\n",
       "      <th>3</th>\n",
       "      <td>\"\\nMore\\nI can't make any real suggestions on ...</td>\n",
       "      <td>0</td>\n",
       "      <td>622</td>\n",
       "      <td>\\n \\n I make real suggestion improvement   I w...</td>\n",
       "      <td>381</td>\n",
       "    </tr>\n",
       "    <tr>\n",
       "      <th>4</th>\n",
       "      <td>You, sir, are my hero. Any chance you remember...</td>\n",
       "      <td>0</td>\n",
       "      <td>67</td>\n",
       "      <td>sir hero chance remember page</td>\n",
       "      <td>29</td>\n",
       "    </tr>\n",
       "  </tbody>\n",
       "</table>\n",
       "</div>"
      ],
      "text/plain": [
       "                                                text  toxic  \\\n",
       "0  Explanation\\nWhy the edits made under my usern...      0   \n",
       "1  D'aww! He matches this background colour I'm s...      0   \n",
       "2  Hey man, I'm really not trying to edit war. It...      0   \n",
       "3  \"\\nMore\\nI can't make any real suggestions on ...      0   \n",
       "4  You, sir, are my hero. Any chance you remember...      0   \n",
       "\n",
       "   original_text_lenth                                  text_preprocessed  \\\n",
       "0                  264  explanation \\n edit make username hardcore met...   \n",
       "1                  112  daww match background colour I seemingly stuck...   \n",
       "2                  233  hey man I really try edit war guy constantly r...   \n",
       "3                  622  \\n \\n I make real suggestion improvement   I w...   \n",
       "4                   67                      sir hero chance remember page   \n",
       "\n",
       "   preprocessing_text_lenth  \n",
       "0                       158  \n",
       "1                        76  \n",
       "2                       135  \n",
       "3                       381  \n",
       "4                        29  "
      ]
     },
     "execution_count": 26,
     "metadata": {},
     "output_type": "execute_result"
    }
   ],
   "source": [
    "data.head()"
   ]
  },
  {
   "cell_type": "code",
   "execution_count": 27,
   "metadata": {},
   "outputs": [
    {
     "name": "stdout",
     "output_type": "stream",
     "text": [
      "Number of rows after removing empty texts: 159237\n"
     ]
    }
   ],
   "source": [
    "# Check for empty strings and remove them\n",
    "data = data[data['text_preprocessed'].str.strip() != '']\n",
    "print(f\"Number of rows after removing empty texts: {len(data)}\")"
   ]
  },
  {
   "cell_type": "markdown",
   "metadata": {},
   "source": [
    "After data preprocessing, the comments were cleaned and normalized, improving their quality and making them more suitable for analysis and modeling. New features were added, such as the length of the original and preprocessed text, which demonstrate that changes were made and the data now looks cleaner."
   ]
  },
  {
   "cell_type": "code",
   "execution_count": 28,
   "metadata": {},
   "outputs": [
    {
     "name": "stdout",
     "output_type": "stream",
     "text": [
      "   toxic   count\n",
      "0      0  143052\n",
      "1      1   16185\n"
     ]
    }
   ],
   "source": [
    "# Output the number of toxic and non-toxic comments\n",
    "toxic_counts = data['toxic'].value_counts()\n",
    "toxic_counts_df = toxic_counts.reset_index()\n",
    "toxic_counts_df.columns = ['toxic', 'count']\n",
    "print(toxic_counts_df)"
   ]
  },
  {
   "cell_type": "code",
   "execution_count": 29,
   "metadata": {},
   "outputs": [
    {
     "data": {
      "image/png": "[encoded data removed]",
      "text/plain": [
       "<Figure size 600x600 with 1 Axes>"
      ]
     },
     "metadata": {},
     "output_type": "display_data"
    }
   ],
   "source": [
    "labels = ['Non-toxic', 'Toxic']\n",
    "colors = ['lightgreen', 'red']\n",
    "\n",
    "plt.figure(figsize=(6, 6))\n",
    "plt.pie(toxic_counts, labels=labels, colors=colors, autopct='%1.1f%%', startangle=140)\n",
    "plt.title('Ratio of Toxic and Non-Toxic Comments')\n",
    "plt.axis('equal')\n",
    "plt.show()"
   ]
  },
  {
   "cell_type": "markdown",
   "metadata": {},
   "source": [
    "The pie chart shows the ratio of toxic and non-toxic comments in the dataset. From the chart, it is evident that the vast majority of comments — 89.8% — are non-toxic, while 10.2% of comments are classified as toxic.  \n",
    "  \n",
    "**Class Imbalance:**\n",
    "- Non-toxic comments: 89.8%\n",
    "- Toxic comments: 10.2%  \n",
    "   \n",
    "This significant class imbalance suggests the need for applying data balancing techniques when training machine learning models. This may involve using oversampling to increase the number of toxic comments or applying class weighting during model training."
   ]
  },
  {
   "cell_type": "markdown",
   "metadata": {},
   "source": [
    "## Training"
   ]
  },
  {
   "cell_type": "code",
   "execution_count": 30,
   "metadata": {},
   "outputs": [],
   "source": [
    "# Split the data into features\n",
    "X = data['text_preprocessed']\n",
    "y = data['toxic']"
   ]
  },
  {
   "cell_type": "code",
   "execution_count": 31,
   "metadata": {},
   "outputs": [],
   "source": [
    "X_train, X_temp, y_train, y_temp = train_test_split(X, y, test_size=0.2, random_state=42)\n",
    "X_val, X_test, y_val, y_test = train_test_split(X_temp, y_temp, test_size=0.5, random_state=42)"
   ]
  },
  {
   "cell_type": "code",
   "execution_count": 32,
   "metadata": {},
   "outputs": [
    {
     "name": "stdout",
     "output_type": "stream",
     "text": [
      "127389\n",
      "15924\n",
      "15924\n"
     ]
    }
   ],
   "source": [
    "print(len(X_train)), print(len(X_val)), print(len(X_test));"
   ]
  },
  {
   "cell_type": "code",
   "execution_count": 33,
   "metadata": {},
   "outputs": [],
   "source": [
    "# Function for training the model and evaluating its performance\n",
    "def model_function(model_name, X_train, y_train, X_val, y_val):\n",
    "\n",
    "    # Vectorizing text using TfidfVectorizer\n",
    "    vectorizer = TfidfVectorizer()\n",
    "    X_train_vec = vectorizer.fit_transform(X_train)\n",
    "    X_val_vec = vectorizer.transform(X_val)\n",
    "\n",
    "    # Balancing the data using RandomOverSampler\n",
    "    ros = RandomOverSampler(sampling_strategy=0.6, random_state=42)\n",
    "    X_resampled, y_resampled = ros.fit_resample(X_train_vec, y_train)\n",
    "\n",
    "    # Training the model on balanced data\n",
    "    model = model_name.fit(X_resampled, y_resampled)\n",
    "    \n",
    "    # Making predictions on the validation set\n",
    "    prediction = model.predict(X_val_vec)\n",
    "    \n",
    "    # Calculating the F1 score on the validation set\n",
    "    f1 = f1_score(y_val, prediction)\n",
    "    return model, vectorizer, f1"
   ]
  },
  {
   "cell_type": "markdown",
   "metadata": {},
   "source": [
    "### Logistic Regression"
   ]
  },
  {
   "cell_type": "code",
   "execution_count": 34,
   "metadata": {},
   "outputs": [
    {
     "name": "stdout",
     "output_type": "stream",
     "text": [
      "F1 Score for Logistic Regression: 0.7808460634547592\n"
     ]
    }
   ],
   "source": [
    "log_model, log_vectorizer, f1_log = model_function(LogisticRegression(random_state=42, solver='saga', max_iter=600,\\\n",
    "                                                                      penalty='l1'),\\\n",
    "                                                   X_train, y_train, X_val, y_val)\n",
    "print(f'F1 Score for Logistic Regression: {f1_log}')"
   ]
  },
  {
   "cell_type": "markdown",
   "metadata": {},
   "source": [
    "### Catboost"
   ]
  },
  {
   "cell_type": "code",
   "execution_count": 35,
   "metadata": {},
   "outputs": [
    {
     "name": "stdout",
     "output_type": "stream",
     "text": [
      "F1 Score for Catboost: 0.6386946386946387\n"
     ]
    }
   ],
   "source": [
    "cat_model, cat_vectorizer, f1_cat = model_function(CatBoostClassifier(learning_rate=0.01, iterations=100,\\\n",
    "                                                                      verbose = 0, random_state = 42),\\\n",
    "                                                   X_train, y_train, X_val, y_val)\n",
    "print(f'F1 Score for Catboost: {f1_cat}')"
   ]
  },
  {
   "cell_type": "markdown",
   "metadata": {},
   "source": [
    "### Naive Bayes Classifier"
   ]
  },
  {
   "cell_type": "code",
   "execution_count": 36,
   "metadata": {},
   "outputs": [
    {
     "name": "stdout",
     "output_type": "stream",
     "text": [
      "F1 Score for Naive Bayes Classifier: 0.7282913165266106\n"
     ]
    }
   ],
   "source": [
    "naive_model, naive_vectorizer, f1_naive = model_function(MultinomialNB(), X_train, y_train,\\\n",
    "                                                         X_val, y_val)\n",
    "print(f'F1 Score for Naive Bayes Classifier: {f1_naive}')"
   ]
  },
  {
   "cell_type": "markdown",
   "metadata": {},
   "source": [
    "### SGD Classifier"
   ]
  },
  {
   "cell_type": "code",
   "execution_count": 37,
   "metadata": {},
   "outputs": [
    {
     "name": "stdout",
     "output_type": "stream",
     "text": [
      "F1 Score for SGD Classifier: 0.7805960684844642\n"
     ]
    }
   ],
   "source": [
    "sgd_model, sgd_vectorizer, f1_sgd = model_function(SGDClassifier(random_state=42, loss='hinge', l1_ratio=0.05,\\\n",
    "                                                                 fit_intercept=True, max_iter=200),\\\n",
    "                                                   X_train, y_train, X_val, y_val)\n",
    "print(f'F1 Score for SGD Classifier: {f1_sgd}')"
   ]
  },
  {
   "cell_type": "markdown",
   "metadata": {},
   "source": [
    "### Intermediate Results and Testing"
   ]
  },
  {
   "cell_type": "code",
   "execution_count": 38,
   "metadata": {},
   "outputs": [
    {
     "data": {
      "text/html": [
       "<div>\n",
       "<style scoped>\n",
       "    .dataframe tbody tr th:only-of-type {\n",
       "        vertical-align: middle;\n",
       "    }\n",
       "\n",
       "    .dataframe tbody tr th {\n",
       "        vertical-align: top;\n",
       "    }\n",
       "\n",
       "    .dataframe thead th {\n",
       "        text-align: right;\n",
       "    }\n",
       "</style>\n",
       "<table border=\"1\" class=\"dataframe\">\n",
       "  <thead>\n",
       "    <tr style=\"text-align: right;\">\n",
       "      <th></th>\n",
       "      <th>Logistic</th>\n",
       "      <th>Catboost</th>\n",
       "      <th>MultinomialNB</th>\n",
       "      <th>SGD</th>\n",
       "    </tr>\n",
       "  </thead>\n",
       "  <tbody>\n",
       "    <tr>\n",
       "      <th>0</th>\n",
       "      <td>0.780846</td>\n",
       "      <td>0.638695</td>\n",
       "      <td>0.728291</td>\n",
       "      <td>0.780596</td>\n",
       "    </tr>\n",
       "  </tbody>\n",
       "</table>\n",
       "</div>"
      ],
      "text/plain": [
       "   Logistic  Catboost  MultinomialNB       SGD\n",
       "0  0.780846  0.638695       0.728291  0.780596"
      ]
     },
     "execution_count": 38,
     "metadata": {},
     "output_type": "execute_result"
    }
   ],
   "source": [
    "data = {\n",
    "    'Logistic': f1_log,\n",
    "    'Catboost': f1_cat,\n",
    "    'MultinomialNB': f1_naive,\n",
    "    'SGD': f1_sgd\n",
    "}\n",
    "\n",
    "final_df = pd.DataFrame(data, index = [0])\n",
    "final_df"
   ]
  },
  {
   "cell_type": "markdown",
   "metadata": {},
   "source": [
    "After conducting experiments with various machine learning models for the toxic comment classification task, the following results were obtained:  \n",
    "- Stochastic Gradient Descent (SGD) showed the best result with an F1 Score of 0.78, making it the most preferred model for this task.\n",
    "- Logistic Regression also demonstrated high efficiency with an F1 Score of 0.78, not far behind SGD.\n",
    "- Multinomial Naive Bayes showed acceptable performance with an F1 Score of 0.73, making it a good candidate for tasks where simplicity and training speed are important.\n",
    "- CatBoost had the lowest result with an F1 Score of 0.64, which may indicate the need for additional hyperparameter tuning or specific data characteristics affecting its performance.\n",
    "  \n",
    "Now, it is necessary to evaluate the model on the test set."
   ]
  },
  {
   "cell_type": "code",
   "execution_count": 39,
   "metadata": {},
   "outputs": [],
   "source": [
    "# Select the best model\n",
    "best_model = sgd_model\n",
    "best_vectorizer = sgd_vectorizer"
   ]
  },
  {
   "cell_type": "code",
   "execution_count": 40,
   "metadata": {},
   "outputs": [
    {
     "name": "stdout",
     "output_type": "stream",
     "text": [
      "F1 SGD Score on the test set: 0.7737765466297323\n"
     ]
    }
   ],
   "source": [
    "# Evaluating the best model on the test set\n",
    "X_test_vec = best_vectorizer.transform(X_test)\n",
    "test_predictions = best_model.predict(X_test_vec)\n",
    "test_f1 = f1_score(y_test, test_predictions)\n",
    "\n",
    "print(f'F1 SGD Score on the test set: {test_f1}')"
   ]
  },
  {
   "cell_type": "markdown",
   "metadata": {},
   "source": [
    "## Conclusion"
   ]
  },
  {
   "cell_type": "markdown",
   "metadata": {},
   "source": [
    "In this project, the task of classifying comments as toxic or non-toxic for a new online store service was completed. The main goal was to develop a model capable of effectively detecting toxic comments and sending them for moderation.  \n",
    "  \n",
    "**Main stages of the project:**\n",
    "- Data loading and preprocessing:\n",
    "    - Text preprocessing was performed, including cleaning the text, removing stop words, and lemmatization.\n",
    "- Model training and evaluation:\n",
    "    - Four models were trained and evaluated: Logistic Regression, CatBoost, Multinomial Naive Bayes, and Stochastic Gradient Descent (SGD).\n",
    "        \n",
    "**Results on the validation set:**  \n",
    "- Logistic Regression: F1 Score = 0.78\n",
    "- CatBoost: F1 Score = 0.64\n",
    "- Multinomial Naive Bayes: F1 Score = 0.73\n",
    "- Stochastic Gradient Descent (SGD): F1 Score = 0.78\n",
    "  \n",
    "On the test set, the SGD model showed the best result: F1 Score = 0.77\n",
    "\n",
    "**Recommendations:**  \n",
    "Based on the analysis and results obtained, it is recommended to use the Stochastic Gradient Descent (SGD) model for classifying comments in the new online store service. This model demonstrated the best F1 Score on both the validation and test sets, allowing for the effective identification of toxic comments and sending them for moderation."
   ]
  }
 ],
 "metadata": {
  "ExecuteTimeLog": [
   {
    "duration": 441,
    "start_time": "2024-07-23T00:06:15.031Z"
   },
   {
    "duration": 1251,
    "start_time": "2024-07-23T00:09:11.123Z"
   },
   {
    "duration": 2560,
    "start_time": "2024-07-23T00:09:12.378Z"
   },
   {
    "duration": 11,
    "start_time": "2024-07-23T00:09:27.226Z"
   },
   {
    "duration": 34,
    "start_time": "2024-07-23T00:09:42.687Z"
   },
   {
    "duration": 28,
    "start_time": "2024-07-23T00:10:37.946Z"
   },
   {
    "duration": 274,
    "start_time": "2024-07-23T00:17:32.803Z"
   },
   {
    "duration": 4,
    "start_time": "2024-07-23T00:19:12.616Z"
   },
   {
    "duration": 2514,
    "start_time": "2024-07-23T00:19:13.329Z"
   },
   {
    "duration": 8,
    "start_time": "2024-07-23T00:19:15.845Z"
   },
   {
    "duration": 146,
    "start_time": "2024-07-23T00:20:14.038Z"
   },
   {
    "duration": 1291,
    "start_time": "2024-07-23T00:20:34.587Z"
   },
   {
    "duration": 2562,
    "start_time": "2024-07-23T00:20:35.880Z"
   },
   {
    "duration": 13,
    "start_time": "2024-07-23T00:20:38.445Z"
   },
   {
    "duration": 33,
    "start_time": "2024-07-23T00:20:38.460Z"
   },
   {
    "duration": 128,
    "start_time": "2024-07-23T00:20:38.494Z"
   },
   {
    "duration": 3,
    "start_time": "2024-07-23T00:21:34.624Z"
   },
   {
    "duration": 117,
    "start_time": "2024-07-23T00:29:38.271Z"
   },
   {
    "duration": 1392,
    "start_time": "2024-07-23T00:29:50.116Z"
   },
   {
    "duration": 2507,
    "start_time": "2024-07-23T00:29:51.510Z"
   },
   {
    "duration": 14,
    "start_time": "2024-07-23T00:29:54.019Z"
   },
   {
    "duration": 43,
    "start_time": "2024-07-23T00:29:54.034Z"
   },
   {
    "duration": 4,
    "start_time": "2024-07-23T00:29:54.079Z"
   },
   {
    "duration": 5,
    "start_time": "2024-07-23T00:29:54.085Z"
   },
   {
    "duration": 29859,
    "start_time": "2024-07-23T00:29:54.091Z"
   },
   {
    "duration": 27,
    "start_time": "2024-07-23T00:30:49.963Z"
   },
   {
    "duration": 4,
    "start_time": "2024-07-23T00:31:15.626Z"
   },
   {
    "duration": 1447,
    "start_time": "2024-07-23T00:31:52.453Z"
   },
   {
    "duration": 2513,
    "start_time": "2024-07-23T00:31:53.902Z"
   },
   {
    "duration": 15,
    "start_time": "2024-07-23T00:31:56.416Z"
   },
   {
    "duration": 53,
    "start_time": "2024-07-23T00:31:56.432Z"
   },
   {
    "duration": 4,
    "start_time": "2024-07-23T00:31:56.487Z"
   },
   {
    "duration": 4,
    "start_time": "2024-07-23T00:31:56.493Z"
   },
   {
    "duration": 29807,
    "start_time": "2024-07-23T00:31:56.499Z"
   },
   {
    "duration": 28,
    "start_time": "2024-07-23T00:32:26.308Z"
   },
   {
    "duration": 9,
    "start_time": "2024-07-23T00:32:26.338Z"
   },
   {
    "duration": 23454,
    "start_time": "2024-07-23T00:32:26.349Z"
   },
   {
    "duration": 4,
    "start_time": "2024-07-23T00:32:49.805Z"
   },
   {
    "duration": 3,
    "start_time": "2024-07-23T00:33:28.325Z"
   },
   {
    "duration": 327412,
    "start_time": "2024-07-23T00:33:44.624Z"
   },
   {
    "duration": 4,
    "start_time": "2024-07-23T00:39:12.037Z"
   },
   {
    "duration": 3,
    "start_time": "2024-07-23T00:39:18.414Z"
   },
   {
    "duration": 120825,
    "start_time": "2024-07-23T00:39:19.379Z"
   },
   {
    "duration": 4,
    "start_time": "2024-07-23T00:41:20.206Z"
   },
   {
    "duration": 7,
    "start_time": "2024-07-23T00:47:11.663Z"
   },
   {
    "duration": 6,
    "start_time": "2024-07-23T00:47:50.822Z"
   },
   {
    "duration": 125,
    "start_time": "2024-07-23T00:48:32.603Z"
   },
   {
    "duration": 206,
    "start_time": "2024-07-23T00:48:53.092Z"
   },
   {
    "duration": 159,
    "start_time": "2024-07-23T00:48:58.429Z"
   },
   {
    "duration": 104,
    "start_time": "2024-07-23T00:49:51.738Z"
   },
   {
    "duration": 93,
    "start_time": "2024-07-23T00:51:00.797Z"
   },
   {
    "duration": 93,
    "start_time": "2024-07-23T00:51:12.832Z"
   },
   {
    "duration": 133,
    "start_time": "2024-07-23T00:51:17.769Z"
   },
   {
    "duration": 267,
    "start_time": "2024-07-23T00:51:21.354Z"
   },
   {
    "duration": 94,
    "start_time": "2024-07-23T00:51:31.675Z"
   },
   {
    "duration": 200,
    "start_time": "2024-07-23T00:51:39.298Z"
   },
   {
    "duration": 93,
    "start_time": "2024-07-23T00:51:54.863Z"
   },
   {
    "duration": 1601,
    "start_time": "2024-07-23T00:52:28.569Z"
   },
   {
    "duration": 2447,
    "start_time": "2024-07-23T00:52:30.172Z"
   },
   {
    "duration": 10,
    "start_time": "2024-07-23T00:52:32.621Z"
   },
   {
    "duration": 76,
    "start_time": "2024-07-23T00:52:32.632Z"
   },
   {
    "duration": 7,
    "start_time": "2024-07-23T00:52:32.711Z"
   },
   {
    "duration": 172,
    "start_time": "2024-07-23T00:52:32.719Z"
   },
   {
    "duration": 4,
    "start_time": "2024-07-23T00:52:32.893Z"
   },
   {
    "duration": 23,
    "start_time": "2024-07-23T00:52:32.898Z"
   },
   {
    "duration": 29981,
    "start_time": "2024-07-23T00:52:32.922Z"
   },
   {
    "duration": 28,
    "start_time": "2024-07-23T00:53:02.905Z"
   },
   {
    "duration": 264,
    "start_time": "2024-07-23T00:53:02.934Z"
   },
   {
    "duration": 22196,
    "start_time": "2024-07-23T00:53:03.200Z"
   },
   {
    "duration": 4,
    "start_time": "2024-07-23T00:53:25.397Z"
   },
   {
    "duration": 9,
    "start_time": "2024-07-23T00:53:25.405Z"
   },
   {
    "duration": 325388,
    "start_time": "2024-07-23T00:53:25.415Z"
   },
   {
    "duration": 3,
    "start_time": "2024-07-23T00:58:50.804Z"
   },
   {
    "duration": 26,
    "start_time": "2024-07-23T00:58:50.808Z"
   },
   {
    "duration": 119486,
    "start_time": "2024-07-23T00:58:50.836Z"
   },
   {
    "duration": 3,
    "start_time": "2024-07-23T01:00:50.324Z"
   },
   {
    "duration": 1566,
    "start_time": "2024-07-23T01:06:56.387Z"
   },
   {
    "duration": 2690,
    "start_time": "2024-07-23T01:06:57.955Z"
   },
   {
    "duration": 15,
    "start_time": "2024-07-23T01:07:00.647Z"
   },
   {
    "duration": 62,
    "start_time": "2024-07-23T01:07:00.664Z"
   },
   {
    "duration": 29,
    "start_time": "2024-07-23T01:07:00.728Z"
   },
   {
    "duration": 211,
    "start_time": "2024-07-23T01:07:00.758Z"
   },
   {
    "duration": 4,
    "start_time": "2024-07-23T01:07:00.971Z"
   },
   {
    "duration": 29,
    "start_time": "2024-07-23T01:07:00.977Z"
   },
   {
    "duration": 29144,
    "start_time": "2024-07-23T01:07:01.008Z"
   },
   {
    "duration": 28,
    "start_time": "2024-07-23T01:07:30.154Z"
   },
   {
    "duration": 20,
    "start_time": "2024-07-23T01:07:30.183Z"
   },
   {
    "duration": 27333,
    "start_time": "2024-07-23T01:07:30.205Z"
   },
   {
    "duration": 3,
    "start_time": "2024-07-23T01:07:57.540Z"
   },
   {
    "duration": 10,
    "start_time": "2024-07-23T01:07:57.547Z"
   },
   {
    "duration": 364054,
    "start_time": "2024-07-23T01:07:57.558Z"
   },
   {
    "duration": 3,
    "start_time": "2024-07-23T01:14:01.614Z"
   },
   {
    "duration": 132,
    "start_time": "2024-07-23T01:14:01.619Z"
   },
   {
    "duration": 119482,
    "start_time": "2024-07-23T01:14:01.753Z"
   },
   {
    "duration": 2,
    "start_time": "2024-07-23T01:16:01.237Z"
   },
   {
    "duration": 146,
    "start_time": "2024-07-23T01:22:38.677Z"
   },
   {
    "duration": 1521,
    "start_time": "2024-07-23T01:22:56.770Z"
   },
   {
    "duration": 2683,
    "start_time": "2024-07-23T01:22:58.293Z"
   },
   {
    "duration": 10,
    "start_time": "2024-07-23T01:23:00.978Z"
   },
   {
    "duration": 63,
    "start_time": "2024-07-23T01:23:00.990Z"
   },
   {
    "duration": 161,
    "start_time": "2024-07-23T01:23:01.054Z"
   },
   {
    "duration": 7,
    "start_time": "2024-07-23T01:23:01.217Z"
   },
   {
    "duration": 200,
    "start_time": "2024-07-23T01:23:01.226Z"
   },
   {
    "duration": 5,
    "start_time": "2024-07-23T01:23:01.428Z"
   },
   {
    "duration": 23,
    "start_time": "2024-07-23T01:23:01.445Z"
   },
   {
    "duration": 29442,
    "start_time": "2024-07-23T01:23:01.471Z"
   },
   {
    "duration": 35,
    "start_time": "2024-07-23T01:23:30.914Z"
   },
   {
    "duration": 53,
    "start_time": "2024-07-23T01:23:30.951Z"
   },
   {
    "duration": 27448,
    "start_time": "2024-07-23T01:23:31.006Z"
   },
   {
    "duration": 3,
    "start_time": "2024-07-23T01:23:58.456Z"
   },
   {
    "duration": 10,
    "start_time": "2024-07-23T01:23:58.461Z"
   },
   {
    "duration": 1614,
    "start_time": "2024-07-23T01:26:00.612Z"
   },
   {
    "duration": 2408,
    "start_time": "2024-07-23T01:26:02.228Z"
   },
   {
    "duration": 18,
    "start_time": "2024-07-23T01:26:04.638Z"
   },
   {
    "duration": 36,
    "start_time": "2024-07-23T01:26:04.658Z"
   },
   {
    "duration": 11,
    "start_time": "2024-07-23T01:26:04.696Z"
   },
   {
    "duration": 211,
    "start_time": "2024-07-23T01:26:04.708Z"
   },
   {
    "duration": 4,
    "start_time": "2024-07-23T01:26:04.920Z"
   },
   {
    "duration": 3,
    "start_time": "2024-07-23T01:26:04.926Z"
   },
   {
    "duration": 29440,
    "start_time": "2024-07-23T01:26:04.931Z"
   },
   {
    "duration": 152,
    "start_time": "2024-07-23T01:26:34.373Z"
   },
   {
    "duration": 35,
    "start_time": "2024-07-23T01:26:34.527Z"
   },
   {
    "duration": 4,
    "start_time": "2024-07-23T01:26:34.563Z"
   },
   {
    "duration": 1664,
    "start_time": "2024-07-23T01:26:34.569Z"
   },
   {
    "duration": 0,
    "start_time": "2024-07-23T01:26:36.235Z"
   },
   {
    "duration": 0,
    "start_time": "2024-07-23T01:26:36.236Z"
   },
   {
    "duration": 0,
    "start_time": "2024-07-23T01:26:36.245Z"
   },
   {
    "duration": 0,
    "start_time": "2024-07-23T01:26:36.246Z"
   },
   {
    "duration": 0,
    "start_time": "2024-07-23T01:26:36.247Z"
   },
   {
    "duration": 0,
    "start_time": "2024-07-23T01:26:36.248Z"
   },
   {
    "duration": 0,
    "start_time": "2024-07-23T01:26:36.249Z"
   },
   {
    "duration": 1542,
    "start_time": "2024-07-23T01:26:45.254Z"
   },
   {
    "duration": 1958,
    "start_time": "2024-07-23T01:26:46.798Z"
   },
   {
    "duration": 12,
    "start_time": "2024-07-23T01:26:48.758Z"
   },
   {
    "duration": 41,
    "start_time": "2024-07-23T01:26:48.772Z"
   },
   {
    "duration": 32,
    "start_time": "2024-07-23T01:26:48.814Z"
   },
   {
    "duration": 179,
    "start_time": "2024-07-23T01:26:48.848Z"
   },
   {
    "duration": 18,
    "start_time": "2024-07-23T01:26:49.028Z"
   },
   {
    "duration": 4,
    "start_time": "2024-07-23T01:26:49.047Z"
   },
   {
    "duration": 29442,
    "start_time": "2024-07-23T01:26:49.053Z"
   },
   {
    "duration": 182,
    "start_time": "2024-07-23T01:27:18.498Z"
   },
   {
    "duration": 31,
    "start_time": "2024-07-23T01:27:18.682Z"
   },
   {
    "duration": 3,
    "start_time": "2024-07-23T01:27:18.714Z"
   },
   {
    "duration": 26465,
    "start_time": "2024-07-23T01:27:18.719Z"
   },
   {
    "duration": 4,
    "start_time": "2024-07-23T01:27:45.185Z"
   },
   {
    "duration": 49,
    "start_time": "2024-07-23T01:27:45.190Z"
   },
   {
    "duration": 364824,
    "start_time": "2024-07-23T01:27:45.241Z"
   },
   {
    "duration": 4,
    "start_time": "2024-07-23T01:33:50.066Z"
   },
   {
    "duration": 18,
    "start_time": "2024-07-23T01:33:50.071Z"
   },
   {
    "duration": 118790,
    "start_time": "2024-07-23T01:33:50.091Z"
   },
   {
    "duration": 3,
    "start_time": "2024-07-23T01:35:48.883Z"
   },
   {
    "duration": 1677,
    "start_time": "2024-07-25T02:16:15.546Z"
   },
   {
    "duration": 2592,
    "start_time": "2024-07-25T02:16:17.225Z"
   },
   {
    "duration": 12,
    "start_time": "2024-07-25T02:16:19.819Z"
   },
   {
    "duration": 34,
    "start_time": "2024-07-25T02:16:19.833Z"
   },
   {
    "duration": 8,
    "start_time": "2024-07-25T02:16:22.322Z"
   },
   {
    "duration": 4,
    "start_time": "2024-07-25T02:17:08.284Z"
   },
   {
    "duration": 4,
    "start_time": "2024-07-25T02:17:47.727Z"
   },
   {
    "duration": 86,
    "start_time": "2024-07-25T02:18:09.711Z"
   },
   {
    "duration": 102064,
    "start_time": "2024-07-25T02:18:24.611Z"
   },
   {
    "duration": 8,
    "start_time": "2024-07-25T02:20:06.677Z"
   },
   {
    "duration": 88,
    "start_time": "2024-07-25T02:20:21.902Z"
   },
   {
    "duration": 101234,
    "start_time": "2024-07-25T02:20:22.868Z"
   },
   {
    "duration": 80,
    "start_time": "2024-07-25T02:22:04.106Z"
   },
   {
    "duration": 20,
    "start_time": "2024-07-25T02:22:04.188Z"
   },
   {
    "duration": 173,
    "start_time": "2024-07-25T02:22:16.978Z"
   },
   {
    "duration": 7,
    "start_time": "2024-07-25T02:22:44.632Z"
   },
   {
    "duration": 107,
    "start_time": "2024-07-25T02:22:47.647Z"
   },
   {
    "duration": 1627,
    "start_time": "2024-07-25T02:30:32.699Z"
   },
   {
    "duration": 1,
    "start_time": "2024-07-25T02:30:34.328Z"
   },
   {
    "duration": 0,
    "start_time": "2024-07-25T02:30:34.330Z"
   },
   {
    "duration": 0,
    "start_time": "2024-07-25T02:30:34.331Z"
   },
   {
    "duration": 0,
    "start_time": "2024-07-25T02:30:34.332Z"
   },
   {
    "duration": 0,
    "start_time": "2024-07-25T02:30:34.333Z"
   },
   {
    "duration": 0,
    "start_time": "2024-07-25T02:30:34.334Z"
   },
   {
    "duration": 0,
    "start_time": "2024-07-25T02:30:34.335Z"
   },
   {
    "duration": 0,
    "start_time": "2024-07-25T02:30:34.336Z"
   },
   {
    "duration": 0,
    "start_time": "2024-07-25T02:30:34.337Z"
   },
   {
    "duration": 0,
    "start_time": "2024-07-25T02:30:34.338Z"
   },
   {
    "duration": 0,
    "start_time": "2024-07-25T02:30:34.339Z"
   },
   {
    "duration": 0,
    "start_time": "2024-07-25T02:30:34.340Z"
   },
   {
    "duration": 0,
    "start_time": "2024-07-25T02:30:34.341Z"
   },
   {
    "duration": 0,
    "start_time": "2024-07-25T02:30:34.342Z"
   },
   {
    "duration": 0,
    "start_time": "2024-07-25T02:30:34.343Z"
   },
   {
    "duration": 0,
    "start_time": "2024-07-25T02:30:34.344Z"
   },
   {
    "duration": 0,
    "start_time": "2024-07-25T02:30:34.345Z"
   },
   {
    "duration": 0,
    "start_time": "2024-07-25T02:30:34.346Z"
   },
   {
    "duration": 0,
    "start_time": "2024-07-25T02:30:34.347Z"
   },
   {
    "duration": 0,
    "start_time": "2024-07-25T02:30:34.348Z"
   },
   {
    "duration": 0,
    "start_time": "2024-07-25T02:30:34.349Z"
   },
   {
    "duration": 7803,
    "start_time": "2024-07-25T02:32:11.233Z"
   },
   {
    "duration": 1459,
    "start_time": "2024-07-25T02:32:19.038Z"
   },
   {
    "duration": 2431,
    "start_time": "2024-07-25T02:32:20.499Z"
   },
   {
    "duration": 14,
    "start_time": "2024-07-25T02:32:22.932Z"
   },
   {
    "duration": 35,
    "start_time": "2024-07-25T02:32:22.948Z"
   },
   {
    "duration": 89,
    "start_time": "2024-07-25T02:32:22.985Z"
   },
   {
    "duration": 159,
    "start_time": "2024-07-25T02:32:23.076Z"
   },
   {
    "duration": 100,
    "start_time": "2024-07-25T02:32:23.237Z"
   },
   {
    "duration": 101919,
    "start_time": "2024-07-25T02:32:23.338Z"
   },
   {
    "duration": 93,
    "start_time": "2024-07-25T02:34:05.259Z"
   },
   {
    "duration": 9,
    "start_time": "2024-07-25T02:34:05.353Z"
   },
   {
    "duration": 18,
    "start_time": "2024-07-25T02:34:05.363Z"
   },
   {
    "duration": 106,
    "start_time": "2024-07-25T02:34:05.382Z"
   },
   {
    "duration": 2,
    "start_time": "2024-07-25T02:34:05.491Z"
   },
   {
    "duration": 38,
    "start_time": "2024-07-25T02:34:05.507Z"
   },
   {
    "duration": 4,
    "start_time": "2024-07-25T02:34:05.547Z"
   },
   {
    "duration": 140,
    "start_time": "2024-07-25T02:34:05.553Z"
   },
   {
    "duration": 0,
    "start_time": "2024-07-25T02:34:05.695Z"
   },
   {
    "duration": 0,
    "start_time": "2024-07-25T02:34:05.696Z"
   },
   {
    "duration": 0,
    "start_time": "2024-07-25T02:34:05.697Z"
   },
   {
    "duration": 0,
    "start_time": "2024-07-25T02:34:05.698Z"
   },
   {
    "duration": 0,
    "start_time": "2024-07-25T02:34:05.707Z"
   },
   {
    "duration": 0,
    "start_time": "2024-07-25T02:34:05.708Z"
   },
   {
    "duration": 2,
    "start_time": "2024-07-25T02:35:24.327Z"
   },
   {
    "duration": 2,
    "start_time": "2024-07-25T02:35:24.941Z"
   },
   {
    "duration": 2,
    "start_time": "2024-07-25T02:35:25.429Z"
   },
   {
    "duration": 3,
    "start_time": "2024-07-25T02:35:25.999Z"
   },
   {
    "duration": 706397,
    "start_time": "2024-07-25T02:35:29.220Z"
   },
   {
    "duration": 2489,
    "start_time": "2024-07-25T06:07:02.499Z"
   },
   {
    "duration": 1507,
    "start_time": "2024-07-25T06:07:04.990Z"
   },
   {
    "duration": 2185,
    "start_time": "2024-07-25T06:07:06.499Z"
   },
   {
    "duration": 22,
    "start_time": "2024-07-25T06:07:08.686Z"
   },
   {
    "duration": 33,
    "start_time": "2024-07-25T06:07:08.710Z"
   },
   {
    "duration": 92,
    "start_time": "2024-07-25T06:07:08.744Z"
   },
   {
    "duration": 101,
    "start_time": "2024-07-25T06:07:08.837Z"
   },
   {
    "duration": 104333,
    "start_time": "2024-07-25T06:07:08.939Z"
   },
   {
    "duration": 92,
    "start_time": "2024-07-25T06:08:53.273Z"
   },
   {
    "duration": 9,
    "start_time": "2024-07-25T06:08:53.367Z"
   },
   {
    "duration": 12,
    "start_time": "2024-07-25T06:08:53.377Z"
   },
   {
    "duration": 118,
    "start_time": "2024-07-25T06:08:53.391Z"
   },
   {
    "duration": 3,
    "start_time": "2024-07-25T06:08:53.512Z"
   },
   {
    "duration": 48,
    "start_time": "2024-07-25T06:08:53.516Z"
   },
   {
    "duration": 5,
    "start_time": "2024-07-25T06:08:53.565Z"
   },
   {
    "duration": 4,
    "start_time": "2024-07-25T06:08:53.571Z"
   },
   {
    "duration": 718687,
    "start_time": "2024-07-25T06:08:53.577Z"
   },
   {
    "duration": 136,
    "start_time": "2024-07-25T06:20:52.266Z"
   },
   {
    "duration": 0,
    "start_time": "2024-07-25T06:20:52.403Z"
   },
   {
    "duration": 709602,
    "start_time": "2024-07-25T06:20:58.658Z"
   },
   {
    "duration": 447,
    "start_time": "2024-07-25T06:32:48.262Z"
   },
   {
    "duration": 4296,
    "start_time": "2024-07-25T06:34:23.927Z"
   },
   {
    "duration": 4552,
    "start_time": "2024-07-25T06:34:33.401Z"
   },
   {
    "duration": 272351,
    "start_time": "2024-07-25T06:36:44.749Z"
   },
   {
    "duration": 176,
    "start_time": "2024-07-25T06:41:27.000Z"
   },
   {
    "duration": 7,
    "start_time": "2024-07-25T06:41:55.214Z"
   },
   {
    "duration": 7,
    "start_time": "2024-07-25T06:42:25.536Z"
   },
   {
    "duration": 94,
    "start_time": "2024-07-25T06:42:26.959Z"
   },
   {
    "duration": 4195,
    "start_time": "2024-07-25T06:49:55.425Z"
   },
   {
    "duration": 4714,
    "start_time": "2024-07-25T06:49:59.622Z"
   },
   {
    "duration": 10,
    "start_time": "2024-07-25T06:52:56.204Z"
   },
   {
    "duration": 11,
    "start_time": "2024-07-25T06:53:07.139Z"
   },
   {
    "duration": 16,
    "start_time": "2024-07-25T07:04:46.922Z"
   },
   {
    "duration": 3,
    "start_time": "2024-07-25T07:07:18.233Z"
   },
   {
    "duration": 10,
    "start_time": "2024-07-25T07:07:20.281Z"
   },
   {
    "duration": 3,
    "start_time": "2024-07-25T07:09:02.621Z"
   },
   {
    "duration": 11,
    "start_time": "2024-07-25T07:09:03.226Z"
   },
   {
    "duration": 12,
    "start_time": "2024-07-25T07:09:47.829Z"
   },
   {
    "duration": 4,
    "start_time": "2024-07-25T07:10:04.938Z"
   },
   {
    "duration": 16,
    "start_time": "2024-07-25T07:10:05.875Z"
   },
   {
    "duration": 10,
    "start_time": "2024-07-25T07:13:52.543Z"
   },
   {
    "duration": 4700,
    "start_time": "2024-07-25T07:15:58.003Z"
   },
   {
    "duration": 11,
    "start_time": "2024-07-25T07:16:03.122Z"
   },
   {
    "duration": 4,
    "start_time": "2024-07-25T07:17:13.347Z"
   },
   {
    "duration": 4616,
    "start_time": "2024-07-25T07:17:17.213Z"
   },
   {
    "duration": 4,
    "start_time": "2024-07-25T07:17:45.469Z"
   },
   {
    "duration": 14,
    "start_time": "2024-07-25T07:17:50.594Z"
   },
   {
    "duration": 4,
    "start_time": "2024-07-25T07:18:04.488Z"
   },
   {
    "duration": 4693,
    "start_time": "2024-07-25T07:18:07.442Z"
   },
   {
    "duration": 3,
    "start_time": "2024-07-25T07:18:17.156Z"
   },
   {
    "duration": 988,
    "start_time": "2024-07-25T07:18:21.994Z"
   },
   {
    "duration": 998,
    "start_time": "2024-07-25T07:18:46.951Z"
   },
   {
    "duration": 2592,
    "start_time": "2024-07-25T07:24:26.052Z"
   },
   {
    "duration": 1901,
    "start_time": "2024-07-25T07:24:28.647Z"
   },
   {
    "duration": 2646,
    "start_time": "2024-07-25T07:24:30.550Z"
   },
   {
    "duration": 27,
    "start_time": "2024-07-25T07:24:33.198Z"
   },
   {
    "duration": 33,
    "start_time": "2024-07-25T07:24:33.227Z"
   },
   {
    "duration": 14,
    "start_time": "2024-07-25T07:24:33.262Z"
   },
   {
    "duration": 6,
    "start_time": "2024-07-25T07:24:33.278Z"
   },
   {
    "duration": 116,
    "start_time": "2024-07-25T07:24:33.286Z"
   },
   {
    "duration": 103833,
    "start_time": "2024-07-25T07:24:33.407Z"
   },
   {
    "duration": 112,
    "start_time": "2024-07-25T07:26:17.243Z"
   },
   {
    "duration": 12,
    "start_time": "2024-07-25T07:26:17.357Z"
   },
   {
    "duration": 208,
    "start_time": "2024-07-25T07:26:17.370Z"
   },
   {
    "duration": 7,
    "start_time": "2024-07-25T07:26:17.580Z"
   },
   {
    "duration": 119,
    "start_time": "2024-07-25T07:26:17.589Z"
   },
   {
    "duration": 3,
    "start_time": "2024-07-25T07:26:17.710Z"
   },
   {
    "duration": 38,
    "start_time": "2024-07-25T07:26:17.714Z"
   },
   {
    "duration": 5,
    "start_time": "2024-07-25T07:26:17.754Z"
   },
   {
    "duration": 26,
    "start_time": "2024-07-25T07:26:17.760Z"
   },
   {
    "duration": 576097,
    "start_time": "2024-07-25T07:26:17.787Z"
   },
   {
    "duration": 276522,
    "start_time": "2024-07-25T07:35:53.885Z"
   },
   {
    "duration": 4686,
    "start_time": "2024-07-25T07:40:30.409Z"
   },
   {
    "duration": 4865,
    "start_time": "2024-07-25T07:40:35.097Z"
   },
   {
    "duration": 11,
    "start_time": "2024-07-25T07:40:39.964Z"
   },
   {
    "duration": 8,
    "start_time": "2024-07-25T07:40:39.978Z"
   },
   {
    "duration": 1007,
    "start_time": "2024-07-25T07:40:39.987Z"
   },
   {
    "duration": 7673,
    "start_time": "2024-07-26T00:22:57.807Z"
   },
   {
    "duration": 2015,
    "start_time": "2024-07-26T00:23:05.482Z"
   },
   {
    "duration": 2499,
    "start_time": "2024-07-26T00:23:07.499Z"
   },
   {
    "duration": 15,
    "start_time": "2024-07-26T00:23:10.001Z"
   },
   {
    "duration": 40,
    "start_time": "2024-07-26T00:23:10.018Z"
   },
   {
    "duration": 14,
    "start_time": "2024-07-26T00:23:10.060Z"
   },
   {
    "duration": 16,
    "start_time": "2024-07-26T00:23:10.076Z"
   },
   {
    "duration": 93,
    "start_time": "2024-07-26T00:23:10.093Z"
   },
   {
    "duration": 100727,
    "start_time": "2024-07-26T00:23:10.187Z"
   },
   {
    "duration": 77,
    "start_time": "2024-07-26T00:24:50.916Z"
   },
   {
    "duration": 16,
    "start_time": "2024-07-26T00:24:50.994Z"
   },
   {
    "duration": 176,
    "start_time": "2024-07-26T00:24:51.012Z"
   },
   {
    "duration": 7,
    "start_time": "2024-07-26T00:24:51.190Z"
   },
   {
    "duration": 102,
    "start_time": "2024-07-26T00:24:51.207Z"
   },
   {
    "duration": 4,
    "start_time": "2024-07-26T00:24:51.313Z"
   },
   {
    "duration": 57,
    "start_time": "2024-07-26T00:24:51.319Z"
   },
   {
    "duration": 6,
    "start_time": "2024-07-26T00:24:51.377Z"
   },
   {
    "duration": 28,
    "start_time": "2024-07-26T00:24:51.384Z"
   },
   {
    "duration": 560229,
    "start_time": "2024-07-26T00:24:51.414Z"
   },
   {
    "duration": 270819,
    "start_time": "2024-07-26T00:34:11.644Z"
   },
   {
    "duration": 139,
    "start_time": "2024-07-26T00:38:42.465Z"
   },
   {
    "duration": 0,
    "start_time": "2024-07-26T00:38:42.607Z"
   },
   {
    "duration": 0,
    "start_time": "2024-07-26T00:38:42.609Z"
   },
   {
    "duration": 0,
    "start_time": "2024-07-26T00:38:42.610Z"
   },
   {
    "duration": 0,
    "start_time": "2024-07-26T00:38:42.611Z"
   },
   {
    "duration": 2425,
    "start_time": "2024-07-26T01:13:51.242Z"
   },
   {
    "duration": 4300,
    "start_time": "2024-07-26T01:13:53.669Z"
   },
   {
    "duration": 2665,
    "start_time": "2024-07-26T01:13:57.971Z"
   },
   {
    "duration": 12,
    "start_time": "2024-07-26T01:14:00.638Z"
   },
   {
    "duration": 62,
    "start_time": "2024-07-26T01:14:00.651Z"
   },
   {
    "duration": 30,
    "start_time": "2024-07-26T01:14:00.715Z"
   },
   {
    "duration": 566,
    "start_time": "2024-07-26T01:14:00.747Z"
   },
   {
    "duration": 95,
    "start_time": "2024-07-26T01:14:01.315Z"
   },
   {
    "duration": 137331,
    "start_time": "2024-07-26T01:14:01.412Z"
   },
   {
    "duration": 0,
    "start_time": "2024-07-26T01:16:18.745Z"
   },
   {
    "duration": 0,
    "start_time": "2024-07-26T01:16:18.747Z"
   },
   {
    "duration": 0,
    "start_time": "2024-07-26T01:16:18.748Z"
   },
   {
    "duration": 0,
    "start_time": "2024-07-26T01:16:18.749Z"
   },
   {
    "duration": 0,
    "start_time": "2024-07-26T01:16:18.751Z"
   },
   {
    "duration": 0,
    "start_time": "2024-07-26T01:16:18.752Z"
   },
   {
    "duration": 0,
    "start_time": "2024-07-26T01:16:18.753Z"
   },
   {
    "duration": 0,
    "start_time": "2024-07-26T01:16:18.755Z"
   },
   {
    "duration": 0,
    "start_time": "2024-07-26T01:16:18.756Z"
   },
   {
    "duration": 0,
    "start_time": "2024-07-26T01:16:18.758Z"
   },
   {
    "duration": 0,
    "start_time": "2024-07-26T01:16:18.759Z"
   },
   {
    "duration": 0,
    "start_time": "2024-07-26T01:16:18.760Z"
   },
   {
    "duration": 0,
    "start_time": "2024-07-26T01:16:18.762Z"
   },
   {
    "duration": 0,
    "start_time": "2024-07-26T01:16:18.763Z"
   },
   {
    "duration": 0,
    "start_time": "2024-07-26T01:16:18.765Z"
   },
   {
    "duration": 0,
    "start_time": "2024-07-26T01:16:18.766Z"
   },
   {
    "duration": 2480,
    "start_time": "2024-07-26T01:16:57.324Z"
   },
   {
    "duration": 4364,
    "start_time": "2024-07-26T01:16:59.807Z"
   },
   {
    "duration": 2157,
    "start_time": "2024-07-26T01:17:04.172Z"
   },
   {
    "duration": 11,
    "start_time": "2024-07-26T01:17:06.331Z"
   },
   {
    "duration": 47,
    "start_time": "2024-07-26T01:17:06.344Z"
   },
   {
    "duration": 16,
    "start_time": "2024-07-26T01:17:06.392Z"
   },
   {
    "duration": 536,
    "start_time": "2024-07-26T01:17:06.409Z"
   },
   {
    "duration": 95,
    "start_time": "2024-07-26T01:17:06.946Z"
   },
   {
    "duration": 2379258,
    "start_time": "2024-07-26T01:17:07.042Z"
   },
   {
    "duration": 79,
    "start_time": "2024-07-26T01:56:46.307Z"
   },
   {
    "duration": 8,
    "start_time": "2024-07-26T01:56:46.388Z"
   },
   {
    "duration": 205,
    "start_time": "2024-07-26T01:56:46.407Z"
   },
   {
    "duration": 8,
    "start_time": "2024-07-26T01:56:46.613Z"
   },
   {
    "duration": 115,
    "start_time": "2024-07-26T01:56:46.622Z"
   },
   {
    "duration": 3,
    "start_time": "2024-07-26T01:56:46.739Z"
   },
   {
    "duration": 55,
    "start_time": "2024-07-26T01:56:46.743Z"
   },
   {
    "duration": 4,
    "start_time": "2024-07-26T01:56:46.800Z"
   },
   {
    "duration": 4,
    "start_time": "2024-07-26T01:56:46.805Z"
   },
   {
    "duration": 480808,
    "start_time": "2024-07-26T01:56:46.811Z"
   },
   {
    "duration": 249779,
    "start_time": "2024-07-26T02:04:47.620Z"
   },
   {
    "duration": 354,
    "start_time": "2024-07-26T02:08:57.401Z"
   },
   {
    "duration": 0,
    "start_time": "2024-07-26T02:08:57.757Z"
   },
   {
    "duration": 0,
    "start_time": "2024-07-26T02:08:57.759Z"
   },
   {
    "duration": 1,
    "start_time": "2024-07-26T02:08:57.760Z"
   },
   {
    "duration": 0,
    "start_time": "2024-07-26T02:08:57.762Z"
   },
   {
    "duration": 0,
    "start_time": "2024-07-26T02:08:57.764Z"
   },
   {
    "duration": 0,
    "start_time": "2024-07-26T02:08:57.765Z"
   },
   {
    "duration": 4128,
    "start_time": "2024-07-26T02:09:28.005Z"
   },
   {
    "duration": 3,
    "start_time": "2024-07-26T02:09:42.172Z"
   },
   {
    "duration": 4427,
    "start_time": "2024-07-26T02:09:55.185Z"
   },
   {
    "duration": 10,
    "start_time": "2024-07-26T02:10:42.004Z"
   },
   {
    "duration": 3,
    "start_time": "2024-07-26T02:10:45.922Z"
   },
   {
    "duration": 939,
    "start_time": "2024-07-26T02:10:47.040Z"
   },
   {
    "duration": 52,
    "start_time": "2024-07-26T02:11:10.226Z"
   },
   {
    "duration": 4,
    "start_time": "2024-07-26T02:11:13.599Z"
   },
   {
    "duration": 39,
    "start_time": "2024-07-26T02:11:19.751Z"
   },
   {
    "duration": 4,
    "start_time": "2024-07-26T02:11:21.281Z"
   },
   {
    "duration": 6,
    "start_time": "2024-07-26T02:11:31.394Z"
   },
   {
    "duration": 1091387,
    "start_time": "2024-07-26T02:11:35.572Z"
   },
   {
    "duration": 339591,
    "start_time": "2024-07-26T02:29:46.961Z"
   },
   {
    "duration": 4749,
    "start_time": "2024-07-26T02:35:26.553Z"
   },
   {
    "duration": 5208,
    "start_time": "2024-07-26T02:35:31.308Z"
   },
   {
    "duration": 4746,
    "start_time": "2024-07-26T02:40:49.366Z"
   },
   {
    "duration": 10,
    "start_time": "2024-07-26T02:43:15.289Z"
   },
   {
    "duration": 13,
    "start_time": "2024-07-26T02:43:18.686Z"
   },
   {
    "duration": 450,
    "start_time": "2024-07-26T02:43:19.857Z"
   },
   {
    "duration": 18010,
    "start_time": "2024-08-18T09:31:00.538Z"
   },
   {
    "duration": 17505,
    "start_time": "2024-08-18T09:31:50.840Z"
   },
   {
    "duration": 32898,
    "start_time": "2024-08-18T09:32:08.347Z"
   },
   {
    "duration": 8590,
    "start_time": "2024-08-18T09:32:41.248Z"
   },
   {
    "duration": 199,
    "start_time": "2024-08-18T09:32:49.842Z"
   },
   {
    "duration": 301,
    "start_time": "2024-08-18T09:32:50.044Z"
   },
   {
    "duration": 102,
    "start_time": "2024-08-18T09:32:50.440Z"
   },
   {
    "duration": 4997,
    "start_time": "2024-08-18T09:32:50.641Z"
   },
   {
    "duration": 898,
    "start_time": "2024-08-18T09:32:55.640Z"
   },
   {
    "duration": 7317,
    "start_time": "2024-10-02T02:03:23.951Z"
   },
   {
    "duration": 4615,
    "start_time": "2024-10-02T02:03:31.270Z"
   },
   {
    "duration": 2484,
    "start_time": "2024-10-02T02:03:35.887Z"
   },
   {
    "duration": 11,
    "start_time": "2024-10-02T02:03:38.373Z"
   },
   {
    "duration": 47,
    "start_time": "2024-10-02T02:03:38.386Z"
   },
   {
    "duration": 9,
    "start_time": "2024-10-02T02:03:38.435Z"
   },
   {
    "duration": 504,
    "start_time": "2024-10-02T02:03:38.445Z"
   },
   {
    "duration": 81,
    "start_time": "2024-10-02T02:03:38.950Z"
   },
   {
    "duration": 12340,
    "start_time": "2024-10-07T19:59:03.152Z"
   },
   {
    "duration": 8772,
    "start_time": "2024-10-07T19:59:15.495Z"
   },
   {
    "duration": 3792,
    "start_time": "2024-10-07T19:59:24.269Z"
   },
   {
    "duration": 11,
    "start_time": "2024-10-07T19:59:28.063Z"
   },
   {
    "duration": 98,
    "start_time": "2024-10-07T19:59:28.075Z"
   },
   {
    "duration": 10,
    "start_time": "2024-10-07T19:59:28.175Z"
   },
   {
    "duration": 1094,
    "start_time": "2024-10-07T19:59:28.187Z"
   },
   {
    "duration": 185,
    "start_time": "2024-10-07T19:59:29.282Z"
   },
   {
    "duration": 4227,
    "start_time": "2024-10-07T20:07:35.842Z"
   },
   {
    "duration": 8307,
    "start_time": "2024-10-07T20:07:40.071Z"
   },
   {
    "duration": 2902,
    "start_time": "2024-10-07T20:07:48.379Z"
   },
   {
    "duration": 11,
    "start_time": "2024-10-07T20:07:51.283Z"
   },
   {
    "duration": 88,
    "start_time": "2024-10-07T20:07:51.295Z"
   },
   {
    "duration": 69,
    "start_time": "2024-10-07T20:07:51.385Z"
   },
   {
    "duration": 1011,
    "start_time": "2024-10-07T20:07:51.456Z"
   },
   {
    "duration": 190,
    "start_time": "2024-10-07T20:07:52.470Z"
   },
   {
    "duration": 2730003,
    "start_time": "2024-10-07T20:07:52.661Z"
   },
   {
    "duration": 87,
    "start_time": "2024-10-07T20:53:22.666Z"
   },
   {
    "duration": 8,
    "start_time": "2024-10-07T20:53:22.755Z"
   },
   {
    "duration": 239,
    "start_time": "2024-10-07T20:53:22.764Z"
   },
   {
    "duration": 8,
    "start_time": "2024-10-07T20:53:23.004Z"
   },
   {
    "duration": 121,
    "start_time": "2024-10-07T20:53:23.014Z"
   },
   {
    "duration": 3,
    "start_time": "2024-10-07T20:53:23.137Z"
   },
   {
    "duration": 51,
    "start_time": "2024-10-07T20:53:23.142Z"
   },
   {
    "duration": 4,
    "start_time": "2024-10-07T20:53:23.195Z"
   },
   {
    "duration": 10,
    "start_time": "2024-10-07T20:53:23.201Z"
   },
   {
    "duration": 1047290,
    "start_time": "2024-10-07T20:53:23.213Z"
   },
   {
    "duration": 331494,
    "start_time": "2024-10-07T21:10:50.505Z"
   },
   {
    "duration": 4428,
    "start_time": "2024-10-07T21:16:22.001Z"
   },
   {
    "duration": 5186,
    "start_time": "2024-10-07T21:16:26.431Z"
   },
   {
    "duration": 10,
    "start_time": "2024-10-07T21:16:31.619Z"
   },
   {
    "duration": 7,
    "start_time": "2024-10-07T21:16:31.631Z"
   },
   {
    "duration": 445,
    "start_time": "2024-10-07T21:16:31.640Z"
   }
  ],
  "kernelspec": {
   "display_name": "base",
   "language": "python",
   "name": "python3"
  },
  "language_info": {
   "codemirror_mode": {
    "name": "ipython",
    "version": 3
   },
   "file_extension": ".py",
   "mimetype": "text/x-python",
   "name": "python",
   "nbconvert_exporter": "python",
   "pygments_lexer": "ipython3",
   "version": "3.11.7"
  },
  "toc": {
   "base_numbering": 1,
   "nav_menu": {},
   "number_sections": true,
   "sideBar": true,
   "skip_h1_title": true,
   "title_cell": "Содержание",
   "title_sidebar": "Contents",
   "toc_cell": true,
   "toc_position": {
    "height": "calc(100% - 180px)",
    "left": "10px",
    "top": "150px",
    "width": "302.391px"
   },
   "toc_section_display": true,
   "toc_window_display": false
  }
 },
 "nbformat": 4,
 "nbformat_minor": 4
}
